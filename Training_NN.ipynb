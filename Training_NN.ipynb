{
 "cells": [
  {
   "cell_type": "code",
   "execution_count": 1,
   "id": "457f593f-12b1-4481-b238-4afd3c393510",
   "metadata": {},
   "outputs": [],
   "source": [
    "import pandas as pd\n",
    "import numpy as np\n",
    "from pymystem3 import Mystem"
   ]
  },
  {
   "cell_type": "code",
   "execution_count": 2,
   "id": "134b864e-47db-4725-b3ae-05091f498fb9",
   "metadata": {},
   "outputs": [],
   "source": [
    "df = pd.read_parquet(\"train/train_1.parquet\")\n",
    "df_key = [\"отсутствует\", \"радость\", \"печаль/грусть\", \"удивление\", \"страх\", \"гнев/злость\"]"
   ]
  },
  {
   "cell_type": "code",
   "execution_count": 3,
   "id": "e0cddd18-7f72-48fe-b9d2-d44f9b56015d",
   "metadata": {},
   "outputs": [],
   "source": [
    "df = df.drop(['source'], axis=1)"
   ]
  },
  {
   "cell_type": "code",
   "execution_count": 4,
   "id": "2bd711cc-1199-4793-9d09-1eec61a78cb8",
   "metadata": {},
   "outputs": [
    {
     "data": {
      "text/html": [
       "<div>\n",
       "<style scoped>\n",
       "    .dataframe tbody tr th:only-of-type {\n",
       "        vertical-align: middle;\n",
       "    }\n",
       "\n",
       "    .dataframe tbody tr th {\n",
       "        vertical-align: top;\n",
       "    }\n",
       "\n",
       "    .dataframe thead th {\n",
       "        text-align: right;\n",
       "    }\n",
       "</style>\n",
       "<table border=\"1\" class=\"dataframe\">\n",
       "  <thead>\n",
       "    <tr style=\"text-align: right;\">\n",
       "      <th></th>\n",
       "      <th>text</th>\n",
       "      <th>labels</th>\n",
       "    </tr>\n",
       "  </thead>\n",
       "  <tbody>\n",
       "    <tr>\n",
       "      <th>0</th>\n",
       "      <td>Суровый гималайский медведь .</td>\n",
       "      <td>[]</td>\n",
       "    </tr>\n",
       "    <tr>\n",
       "      <th>1</th>\n",
       "      <td>Так, обнаружено несколько проблем с дисплеем (...</td>\n",
       "      <td>[]</td>\n",
       "    </tr>\n",
       "    <tr>\n",
       "      <th>2</th>\n",
       "      <td>У меня остается только один вопрос - является ...</td>\n",
       "      <td>[2]</td>\n",
       "    </tr>\n",
       "  </tbody>\n",
       "</table>\n",
       "</div>"
      ],
      "text/plain": [
       "                                                text labels\n",
       "0                      Суровый гималайский медведь .     []\n",
       "1  Так, обнаружено несколько проблем с дисплеем (...     []\n",
       "2  У меня остается только один вопрос - является ...    [2]"
      ]
     },
     "execution_count": 4,
     "metadata": {},
     "output_type": "execute_result"
    }
   ],
   "source": [
    "df.head(3)"
   ]
  },
  {
   "cell_type": "code",
   "execution_count": 5,
   "id": "0bff6395-f3ab-458e-a761-7e335f85fa18",
   "metadata": {},
   "outputs": [],
   "source": [
    "df = df.astype({'labels': 'string'})"
   ]
  },
  {
   "cell_type": "code",
   "execution_count": 6,
   "id": "96e11af2-a01c-42e9-98aa-fbf891c50b47",
   "metadata": {},
   "outputs": [
    {
     "data": {
      "text/plain": [
       "string[python]"
      ]
     },
     "execution_count": 6,
     "metadata": {},
     "output_type": "execute_result"
    }
   ],
   "source": [
    "df.labels.dtypes"
   ]
  },
  {
   "cell_type": "code",
   "execution_count": 7,
   "id": "9bd05a5f-4f45-4b0a-b4ff-f004b3f3daee",
   "metadata": {},
   "outputs": [
    {
     "name": "stdout",
     "output_type": "stream",
     "text": [
      "True\n"
     ]
    }
   ],
   "source": [
    "print(df.labels[0] == \"[]\")"
   ]
  },
  {
   "cell_type": "code",
   "execution_count": 8,
   "id": "fd4b428d-5efb-48cd-851b-491ab9a70725",
   "metadata": {},
   "outputs": [
    {
     "name": "stdout",
     "output_type": "stream",
     "text": [
      "[]\n"
     ]
    }
   ],
   "source": [
    "print(np.array([]))"
   ]
  },
  {
   "cell_type": "code",
   "execution_count": 9,
   "id": "5164a95a-1194-4556-8ae5-acc43db4b4ae",
   "metadata": {},
   "outputs": [],
   "source": [
    "clear_lst = []\n",
    "for i in df.labels:\n",
    "    if i == \"[]\":\n",
    "        clear_lst.append(np.array([0]))\n",
    "    else:\n",
    "        i = i.replace('[', \"\").replace(']', \"\")\n",
    "        if len(i.split()) == 1:\n",
    "            clear_lst.append(np.array([int(i) + 1]))\n",
    "        else:\n",
    "            clear_lst.append(np.array([int(i[0]) + 1]))"
   ]
  },
  {
   "cell_type": "code",
   "execution_count": null,
   "id": "7334adbd-5c23-4d49-a060-3d36c189cee4",
   "metadata": {},
   "outputs": [],
   "source": []
  },
  {
   "cell_type": "code",
   "execution_count": 10,
   "id": "b45cd63b-fee1-4e59-aa8e-6fd7c026bb05",
   "metadata": {},
   "outputs": [
    {
     "data": {
      "text/plain": [
       "array([[0],\n",
       "       [0],\n",
       "       [3],\n",
       "       ...,\n",
       "       [2],\n",
       "       [0],\n",
       "       [3]])"
      ]
     },
     "execution_count": 10,
     "metadata": {},
     "output_type": "execute_result"
    }
   ],
   "source": [
    "np.array(g)"
   ]
  },
  {
   "cell_type": "code",
   "execution_count": 11,
   "id": "3cd004e6-0a8b-473b-87ec-aa12c46cd408",
   "metadata": {},
   "outputs": [],
   "source": [
    "df.labels = g"
   ]
  },
  {
   "cell_type": "code",
   "execution_count": 12,
   "id": "9460ef9e-736e-4b6e-9777-ca5ed9cbec17",
   "metadata": {},
   "outputs": [
    {
     "data": {
      "text/html": [
       "<div>\n",
       "<style scoped>\n",
       "    .dataframe tbody tr th:only-of-type {\n",
       "        vertical-align: middle;\n",
       "    }\n",
       "\n",
       "    .dataframe tbody tr th {\n",
       "        vertical-align: top;\n",
       "    }\n",
       "\n",
       "    .dataframe thead th {\n",
       "        text-align: right;\n",
       "    }\n",
       "</style>\n",
       "<table border=\"1\" class=\"dataframe\">\n",
       "  <thead>\n",
       "    <tr style=\"text-align: right;\">\n",
       "      <th></th>\n",
       "      <th>text</th>\n",
       "      <th>labels</th>\n",
       "    </tr>\n",
       "  </thead>\n",
       "  <tbody>\n",
       "    <tr>\n",
       "      <th>0</th>\n",
       "      <td>Суровый гималайский медведь .</td>\n",
       "      <td>[0]</td>\n",
       "    </tr>\n",
       "    <tr>\n",
       "      <th>1</th>\n",
       "      <td>Так, обнаружено несколько проблем с дисплеем (...</td>\n",
       "      <td>[0]</td>\n",
       "    </tr>\n",
       "    <tr>\n",
       "      <th>2</th>\n",
       "      <td>У меня остается только один вопрос - является ...</td>\n",
       "      <td>[3]</td>\n",
       "    </tr>\n",
       "    <tr>\n",
       "      <th>3</th>\n",
       "      <td>Забавно как люди в возрасте удивляются входящи...</td>\n",
       "      <td>[1]</td>\n",
       "    </tr>\n",
       "    <tr>\n",
       "      <th>4</th>\n",
       "      <td>Издание The Register отмечает, что у владельце...</td>\n",
       "      <td>[0]</td>\n",
       "    </tr>\n",
       "    <tr>\n",
       "      <th>...</th>\n",
       "      <td>...</td>\n",
       "      <td>...</td>\n",
       "    </tr>\n",
       "    <tr>\n",
       "      <th>7523</th>\n",
       "      <td>Ухаха какая я злая!</td>\n",
       "      <td>[5]</td>\n",
       "    </tr>\n",
       "    <tr>\n",
       "      <th>7524</th>\n",
       "      <td>Я очень рада вас видеть.</td>\n",
       "      <td>[1]</td>\n",
       "    </tr>\n",
       "    <tr>\n",
       "      <th>7525</th>\n",
       "      <td>Жизнь боль.</td>\n",
       "      <td>[2]</td>\n",
       "    </tr>\n",
       "    <tr>\n",
       "      <th>7526</th>\n",
       "      <td>- Не удивительно .</td>\n",
       "      <td>[0]</td>\n",
       "    </tr>\n",
       "    <tr>\n",
       "      <th>7527</th>\n",
       "      <td>Удивительно .</td>\n",
       "      <td>[3]</td>\n",
       "    </tr>\n",
       "  </tbody>\n",
       "</table>\n",
       "<p>7528 rows × 2 columns</p>\n",
       "</div>"
      ],
      "text/plain": [
       "                                                   text labels\n",
       "0                         Суровый гималайский медведь .    [0]\n",
       "1     Так, обнаружено несколько проблем с дисплеем (...    [0]\n",
       "2     У меня остается только один вопрос - является ...    [3]\n",
       "3     Забавно как люди в возрасте удивляются входящи...    [1]\n",
       "4     Издание The Register отмечает, что у владельце...    [0]\n",
       "...                                                 ...    ...\n",
       "7523                                Ухаха какая я злая!    [5]\n",
       "7524                           Я очень рада вас видеть.    [1]\n",
       "7525                                        Жизнь боль.    [2]\n",
       "7526                                 - Не удивительно .    [0]\n",
       "7527                                      Удивительно .    [3]\n",
       "\n",
       "[7528 rows x 2 columns]"
      ]
     },
     "execution_count": 12,
     "metadata": {},
     "output_type": "execute_result"
    }
   ],
   "source": [
    "df"
   ]
  },
  {
   "cell_type": "markdown",
   "id": "78b0e4d2-ed15-4fdd-b1dc-b1ec463ec9b9",
   "metadata": {},
   "source": [
    "Удаление стоп-слов + токенизация"
   ]
  },
  {
   "cell_type": "code",
   "execution_count": 13,
   "id": "bc9a3d70-4aac-4c6f-a58c-7949ecb7854e",
   "metadata": {},
   "outputs": [
    {
     "data": {
      "text/plain": [
       "array(['Суровый гималайский медведь .',\n",
       "       'Так, обнаружено несколько проблем с дисплеем (выгорание, странные зеленые полосы), дефекты динамика и некорректная работа Face ID.',\n",
       "       'У меня остается только один вопрос - является ли этот приступ отчаяния ( а точнее приступ удивления , почему мне не становится лучше , почему мне ничего не помогает ) еще одним испытанием ?',\n",
       "       ..., 'Жизнь боль.', '- Не удивительно .', 'Удивительно .'],\n",
       "      dtype=object)"
      ]
     },
     "execution_count": 13,
     "metadata": {},
     "output_type": "execute_result"
    }
   ],
   "source": [
    "dirty_x = df['text'].values\n",
    "dirty_x"
   ]
  },
  {
   "cell_type": "code",
   "execution_count": 14,
   "id": "288a5ef7-e87b-4d41-b954-13b8b623e5e0",
   "metadata": {},
   "outputs": [],
   "source": [
    "def lemmatiz(text, lst):\n",
    "    m = Mystem()\n",
    "    lemmas = m.lemmatize(text)\n",
    "    lst.append(\"\".join(lemmas))"
   ]
  },
  {
   "cell_type": "code",
   "execution_count": 1,
   "id": "97552129-74dd-4a30-ad16-8b16c98fae5e",
   "metadata": {},
   "outputs": [
    {
     "ename": "NameError",
     "evalue": "name 'dirty_x' is not defined",
     "output_type": "error",
     "traceback": [
      "\u001b[1;31m---------------------------------------------------------------------------\u001b[0m",
      "\u001b[1;31mNameError\u001b[0m                                 Traceback (most recent call last)",
      "Cell \u001b[1;32mIn[1], line 2\u001b[0m\n\u001b[0;32m      1\u001b[0m lem_x \u001b[38;5;241m=\u001b[39m []\n\u001b[1;32m----> 2\u001b[0m \u001b[38;5;28;01mfor\u001b[39;00m i \u001b[38;5;129;01min\u001b[39;00m dirty_x:\n\u001b[0;32m      3\u001b[0m     lemmatiz(i, lem_x)\n\u001b[0;32m      4\u001b[0m lem_x\n",
      "\u001b[1;31mNameError\u001b[0m: name 'dirty_x' is not defined"
     ]
    }
   ],
   "source": [
    "lem_x = []\n",
    "for i in dirty_x:\n",
    "    lemmatiz(i, lem_x)\n",
    "lem_x"
   ]
  },
  {
   "cell_type": "code",
   "execution_count": 16,
   "id": "fca8691b-f5c6-4c92-8a4f-d478c0a49cf2",
   "metadata": {},
   "outputs": [],
   "source": [
    "df_clear = pd.read_csv(\"df_clear\")"
   ]
  },
  {
   "cell_type": "code",
   "execution_count": 17,
   "id": "7e3eab99-41da-4b2a-998a-d99b44ad3bb4",
   "metadata": {},
   "outputs": [
    {
     "data": {
      "text/html": [
       "<div>\n",
       "<style scoped>\n",
       "    .dataframe tbody tr th:only-of-type {\n",
       "        vertical-align: middle;\n",
       "    }\n",
       "\n",
       "    .dataframe tbody tr th {\n",
       "        vertical-align: top;\n",
       "    }\n",
       "\n",
       "    .dataframe thead th {\n",
       "        text-align: right;\n",
       "    }\n",
       "</style>\n",
       "<table border=\"1\" class=\"dataframe\">\n",
       "  <thead>\n",
       "    <tr style=\"text-align: right;\">\n",
       "      <th></th>\n",
       "      <th>text</th>\n",
       "      <th>labels</th>\n",
       "    </tr>\n",
       "  </thead>\n",
       "  <tbody>\n",
       "    <tr>\n",
       "      <th>0</th>\n",
       "      <td>['суровый', 'гималайский', 'медведь', '.']</td>\n",
       "      <td>[1.0, 0.0, 0.0, 0.0, 0.0, 0.0]</td>\n",
       "    </tr>\n",
       "    <tr>\n",
       "      <th>1</th>\n",
       "      <td>[',', 'обнаруживать', 'несколько', 'проблема',...</td>\n",
       "      <td>[1.0, 0.0, 0.0, 0.0, 0.0, 0.0]</td>\n",
       "    </tr>\n",
       "    <tr>\n",
       "      <th>2</th>\n",
       "      <td>['оставаться', 'вопрос', '-', 'являться', 'при...</td>\n",
       "      <td>[0.0, 0.0, 0.0, 1.0, 0.0, 0.0]</td>\n",
       "    </tr>\n",
       "    <tr>\n",
       "      <th>3</th>\n",
       "      <td>['забавно', 'человек', 'возраст', 'удивляться'...</td>\n",
       "      <td>[0.0, 1.0, 0.0, 0.0, 0.0, 0.0]</td>\n",
       "    </tr>\n",
       "    <tr>\n",
       "      <th>4</th>\n",
       "      <td>['издание', 'The', 'Register', 'отмечать', ','...</td>\n",
       "      <td>[1.0, 0.0, 0.0, 0.0, 0.0, 0.0]</td>\n",
       "    </tr>\n",
       "    <tr>\n",
       "      <th>...</th>\n",
       "      <td>...</td>\n",
       "      <td>...</td>\n",
       "    </tr>\n",
       "    <tr>\n",
       "      <th>15052</th>\n",
       "      <td>['ухах', 'злой', '!']</td>\n",
       "      <td>[0.0, 0.0, 0.0, 0.0, 0.0, 1.0]</td>\n",
       "    </tr>\n",
       "    <tr>\n",
       "      <th>15053</th>\n",
       "      <td>['очень', 'рад', 'видеть', '.']</td>\n",
       "      <td>[0.0, 1.0, 0.0, 0.0, 0.0, 0.0]</td>\n",
       "    </tr>\n",
       "    <tr>\n",
       "      <th>15054</th>\n",
       "      <td>['жизнь', 'боль', '.']</td>\n",
       "      <td>[0.0, 0.0, 1.0, 0.0, 0.0, 0.0]</td>\n",
       "    </tr>\n",
       "    <tr>\n",
       "      <th>15055</th>\n",
       "      <td>['-', 'удивительно', '.']</td>\n",
       "      <td>[1.0, 0.0, 0.0, 0.0, 0.0, 0.0]</td>\n",
       "    </tr>\n",
       "    <tr>\n",
       "      <th>15056</th>\n",
       "      <td>['удивительно', '.']</td>\n",
       "      <td>[0.0, 0.0, 0.0, 1.0, 0.0, 0.0]</td>\n",
       "    </tr>\n",
       "  </tbody>\n",
       "</table>\n",
       "<p>15057 rows × 2 columns</p>\n",
       "</div>"
      ],
      "text/plain": [
       "                                                    text  \\\n",
       "0             ['суровый', 'гималайский', 'медведь', '.']   \n",
       "1      [',', 'обнаруживать', 'несколько', 'проблема',...   \n",
       "2      ['оставаться', 'вопрос', '-', 'являться', 'при...   \n",
       "3      ['забавно', 'человек', 'возраст', 'удивляться'...   \n",
       "4      ['издание', 'The', 'Register', 'отмечать', ','...   \n",
       "...                                                  ...   \n",
       "15052                              ['ухах', 'злой', '!']   \n",
       "15053                    ['очень', 'рад', 'видеть', '.']   \n",
       "15054                             ['жизнь', 'боль', '.']   \n",
       "15055                          ['-', 'удивительно', '.']   \n",
       "15056                               ['удивительно', '.']   \n",
       "\n",
       "                               labels  \n",
       "0      [1.0, 0.0, 0.0, 0.0, 0.0, 0.0]  \n",
       "1      [1.0, 0.0, 0.0, 0.0, 0.0, 0.0]  \n",
       "2      [0.0, 0.0, 0.0, 1.0, 0.0, 0.0]  \n",
       "3      [0.0, 1.0, 0.0, 0.0, 0.0, 0.0]  \n",
       "4      [1.0, 0.0, 0.0, 0.0, 0.0, 0.0]  \n",
       "...                               ...  \n",
       "15052  [0.0, 0.0, 0.0, 0.0, 0.0, 1.0]  \n",
       "15053  [0.0, 1.0, 0.0, 0.0, 0.0, 0.0]  \n",
       "15054  [0.0, 0.0, 1.0, 0.0, 0.0, 0.0]  \n",
       "15055  [1.0, 0.0, 0.0, 0.0, 0.0, 0.0]  \n",
       "15056  [0.0, 0.0, 0.0, 1.0, 0.0, 0.0]  \n",
       "\n",
       "[15057 rows x 2 columns]"
      ]
     },
     "execution_count": 17,
     "metadata": {},
     "output_type": "execute_result"
    }
   ],
   "source": [
    "df_clear"
   ]
  },
  {
   "cell_type": "code",
   "execution_count": 3,
   "id": "3624d14f-d7fd-496d-bf58-f2df13ae2bdb",
   "metadata": {},
   "outputs": [
    {
     "data": {
      "text/plain": [
       "[]"
      ]
     },
     "execution_count": 3,
     "metadata": {},
     "output_type": "execute_result"
    }
   ],
   "source": [
    "from nltk import download\n",
    "from nltk.corpus import stopwords\n",
    "from nltk.tokenize import word_tokenize\n",
    "clear_x = []\n",
    "stop_words = set(stopwords.words('russian'))\n",
    "#punkt_to_del = [\"*\",\",\",\".\",\"=\",\"<\",\"<<\",\">\",\">>\",\"»\",\"-\",\"—\",\"«\"]\n",
    "for text in lem_x:\n",
    "    tokens = word_tokenize(text.replace(\"'\", \"\").replace(\"\\n\", \"\"), 'russian')\n",
    "    clear_text = []\n",
    "    for word in tokens:\n",
    "        if word not in stop_words:\n",
    "            #if word not in punkt_to_del:\n",
    "            clear_text.append(word)\n",
    "    clear_x.append(clear_text)\n",
    "clear_x"
   ]
  },
  {
   "cell_type": "code",
   "execution_count": 29,
   "id": "9c5707e1-6c82-43e3-b8f9-d101d8d3c51c",
   "metadata": {},
   "outputs": [
    {
     "data": {
      "text/plain": [
       "'У меня остается только один вопрос - является ли этот приступ отчаяния ( а точнее приступ удивления , почему мне не становится лучше , почему мне ничего не помогает ) еще одним испытанием ?'"
      ]
     },
     "execution_count": 29,
     "metadata": {},
     "output_type": "execute_result"
    }
   ],
   "source": [
    "dirty_x[2]"
   ]
  },
  {
   "cell_type": "code",
   "execution_count": 31,
   "id": "0062533f-1782-423a-9b46-4fb6d20b4c72",
   "metadata": {},
   "outputs": [
    {
     "data": {
      "text/plain": [
       "['оставаться',\n",
       " 'вопрос',\n",
       " '-',\n",
       " 'являться',\n",
       " 'приступ',\n",
       " 'отчаяние',\n",
       " '(',\n",
       " 'точно',\n",
       " 'приступ',\n",
       " 'удивление',\n",
       " ',',\n",
       " 'почему',\n",
       " 'становиться',\n",
       " ',',\n",
       " 'почему',\n",
       " 'ничто',\n",
       " 'помогать',\n",
       " ')',\n",
       " 'испытание',\n",
       " '?']"
      ]
     },
     "execution_count": 31,
     "metadata": {},
     "output_type": "execute_result"
    }
   ],
   "source": [
    "clear_x[2]"
   ]
  },
  {
   "cell_type": "code",
   "execution_count": 21,
   "id": "3203ac90-a7ed-4fb5-9d9d-be2aac804cf2",
   "metadata": {},
   "outputs": [],
   "source": [
    "from tensorflow.keras.models import Sequential\n",
    "from tensorflow.keras.layers import Dense, Dropout, Flatten, Embedding, Flatten, LSTM, SimpleRNN, GRU, SpatialDropout1D,Bidirectional\n",
    "from tensorflow.keras import utils\n",
    "from tensorflow.keras.preprocessing.text import Tokenizer\n",
    "from tensorflow.keras.preprocessing.sequence import pad_sequences"
   ]
  },
  {
   "cell_type": "code",
   "execution_count": 22,
   "id": "6051713e-f284-42ae-be42-28a67ce31fe5",
   "metadata": {},
   "outputs": [],
   "source": [
    "def get_max_length():\n",
    "    review_length = []\n",
    "    for review in clear_x:\n",
    "        review_length.append(len(review))\n",
    "\n",
    "    return max(review_length)"
   ]
  },
  {
   "cell_type": "code",
   "execution_count": 23,
   "id": "8885e61b-914d-455a-af90-1da168b1e479",
   "metadata": {},
   "outputs": [],
   "source": [
    "token = Tokenizer(lower=False)\n",
    "token.fit_on_texts(clear_x)\n",
    "x_train = token.texts_to_sequences(clear_x)\n",
    "\n",
    "max_length = get_max_length()\n",
    "x_train = pad_sequences(x_train, maxlen=max_length, padding='post', truncating='post')\n",
    "\n",
    "total_words = len(token.word_index) + 1"
   ]
  },
  {
   "cell_type": "code",
   "execution_count": 24,
   "id": "db644993-ad1b-4cbc-8dcc-cd9c249f955e",
   "metadata": {},
   "outputs": [],
   "source": [
    "data = token.texts_to_matrix(clear_x)"
   ]
  },
  {
   "cell_type": "code",
   "execution_count": 94,
   "id": "17784b97-37fc-48d3-a2a4-8b398e974a06",
   "metadata": {},
   "outputs": [
    {
     "data": {
      "text/plain": [
       "array([[0., 0., 1., ..., 0., 0., 0.],\n",
       "       [0., 1., 1., ..., 0., 0., 0.],\n",
       "       [0., 1., 0., ..., 0., 0., 0.],\n",
       "       ...,\n",
       "       [0., 0., 1., ..., 0., 0., 0.],\n",
       "       [0., 0., 1., ..., 0., 0., 0.],\n",
       "       [0., 0., 1., ..., 0., 0., 0.]])"
      ]
     },
     "execution_count": 94,
     "metadata": {},
     "output_type": "execute_result"
    }
   ],
   "source": [
    "data"
   ]
  },
  {
   "cell_type": "code",
   "execution_count": 25,
   "id": "59075469-49b8-4ea4-9d59-d382b7d378cf",
   "metadata": {},
   "outputs": [
    {
     "name": "stdout",
     "output_type": "stream",
     "text": [
      "15686 4\n"
     ]
    }
   ],
   "source": [
    "is0 = 0\n",
    "is1 = 0\n",
    "for i in data[0]:\n",
    "    if i == 0.0:\n",
    "       is0 += 1\n",
    "    elif i == 1.0:\n",
    "        is1 += 1\n",
    "print(is0, is1)"
   ]
  },
  {
   "cell_type": "code",
   "execution_count": 26,
   "id": "4f9c3e11-fb18-49cc-ba51-b43b171e6b6b",
   "metadata": {},
   "outputs": [
    {
     "data": {
      "text/plain": [
       "(7528, 99)"
      ]
     },
     "execution_count": 26,
     "metadata": {},
     "output_type": "execute_result"
    }
   ],
   "source": [
    "x_train.shape"
   ]
  },
  {
   "cell_type": "code",
   "execution_count": 27,
   "id": "a95452df-457e-4326-b0c0-b31b2d9b301f",
   "metadata": {},
   "outputs": [
    {
     "ename": "NameError",
     "evalue": "name 'y_train' is not defined",
     "output_type": "error",
     "traceback": [
      "\u001b[1;31m---------------------------------------------------------------------------\u001b[0m",
      "\u001b[1;31mNameError\u001b[0m                                 Traceback (most recent call last)",
      "Cell \u001b[1;32mIn[27], line 1\u001b[0m\n\u001b[1;32m----> 1\u001b[0m y_train\u001b[38;5;241m.\u001b[39mshape\n",
      "\u001b[1;31mNameError\u001b[0m: name 'y_train' is not defined"
     ]
    }
   ],
   "source": [
    "y_train.shape"
   ]
  },
  {
   "cell_type": "code",
   "execution_count": 32,
   "id": "2b7cf71b-2af9-4060-b488-4521dc446ad9",
   "metadata": {},
   "outputs": [
    {
     "data": {
      "text/plain": [
       "array([[  48, 6343, 1603, ...,    0,    0,    0],\n",
       "       [   1,  254,  126, ...,    0,    0,    0],\n",
       "       [ 131,  129,    9, ...,    0,    0,    0],\n",
       "       ...,\n",
       "       [  41,   71,    2, ...,    0,    0,    0],\n",
       "       [   9,   78,    2, ...,    0,    0,    0],\n",
       "       [  78,    2,    0, ...,    0,    0,    0]])"
      ]
     },
     "execution_count": 32,
     "metadata": {},
     "output_type": "execute_result"
    }
   ],
   "source": [
    "x_train"
   ]
  },
  {
   "cell_type": "code",
   "execution_count": 33,
   "id": "706b5cf4-e356-4183-9b2d-bcd45f6bc812",
   "metadata": {},
   "outputs": [
    {
     "data": {
      "text/plain": [
       "15690"
      ]
     },
     "execution_count": 33,
     "metadata": {},
     "output_type": "execute_result"
    }
   ],
   "source": [
    "total_words"
   ]
  },
  {
   "cell_type": "code",
   "execution_count": 90,
   "id": "e10cd5df-beb2-4e2d-bc75-7ba5e6eb5ad8",
   "metadata": {},
   "outputs": [],
   "source": [
    "y_train = np.array(g)\n"
   ]
  },
  {
   "cell_type": "code",
   "execution_count": 91,
   "id": "666e0f79-9157-42ce-a62a-c3b28b7bb958",
   "metadata": {},
   "outputs": [
    {
     "data": {
      "text/plain": [
       "array([[0],\n",
       "       [0],\n",
       "       [3],\n",
       "       ...,\n",
       "       [2],\n",
       "       [0],\n",
       "       [3]])"
      ]
     },
     "execution_count": 91,
     "metadata": {},
     "output_type": "execute_result"
    }
   ],
   "source": [
    "y_train"
   ]
  },
  {
   "cell_type": "code",
   "execution_count": 36,
   "id": "edddd14d-b759-47c5-9943-c271fb92cddf",
   "metadata": {},
   "outputs": [],
   "source": [
    "from tensorflow.keras.utils import to_categorical"
   ]
  },
  {
   "cell_type": "code",
   "execution_count": 92,
   "id": "20e5e4a7-a0cd-4f9a-8c16-b07ccb2f8b3d",
   "metadata": {},
   "outputs": [],
   "source": [
    "y_train = to_categorical(y_train)"
   ]
  },
  {
   "cell_type": "code",
   "execution_count": 38,
   "id": "30658e6e-43f6-4e3b-9364-8638000689a3",
   "metadata": {},
   "outputs": [],
   "source": [
    "df_clear = df\n",
    "df_clear.text = clear_x\n",
    "df_clear.labels = y_train.tolist()"
   ]
  },
  {
   "cell_type": "code",
   "execution_count": 78,
   "id": "c14ea0b8-d577-4946-ac71-bb39912a64cd",
   "metadata": {},
   "outputs": [],
   "source": [
    "lem_y = []\n",
    "for i in y_train:\n",
    "    lem_y.append(i[0])"
   ]
  },
  {
   "cell_type": "code",
   "execution_count": 5,
   "id": "9f1c4ccb-ecc4-4282-94c6-c36a75dad616",
   "metadata": {},
   "outputs": [
    {
     "ename": "NameError",
     "evalue": "name 'lem_y' is not defined",
     "output_type": "error",
     "traceback": [
      "\u001b[1;31m---------------------------------------------------------------------------\u001b[0m",
      "\u001b[1;31mNameError\u001b[0m                                 Traceback (most recent call last)",
      "Cell \u001b[1;32mIn[5], line 1\u001b[0m\n\u001b[1;32m----> 1\u001b[0m lem_y\n",
      "\u001b[1;31mNameError\u001b[0m: name 'lem_y' is not defined"
     ]
    }
   ],
   "source": [
    "lem_y"
   ]
  },
  {
   "cell_type": "code",
   "execution_count": 7,
   "id": "fe566cef-86b9-4684-a811-539502839912",
   "metadata": {},
   "outputs": [
    {
     "data": {
      "text/plain": [
       "[]"
      ]
     },
     "execution_count": 7,
     "metadata": {},
     "output_type": "execute_result"
    }
   ],
   "source": [
    "lem_x"
   ]
  },
  {
   "cell_type": "code",
   "execution_count": 82,
   "id": "6bec013b-3da1-4a25-aa82-c1a7083cb23f",
   "metadata": {},
   "outputs": [],
   "source": [
    "df_lemmatiz = {\"text\": lem_x, \"labels\": lem_y}"
   ]
  },
  {
   "cell_type": "code",
   "execution_count": 83,
   "id": "a7738bd9-1bd6-4bef-b56a-819bfdcbae0f",
   "metadata": {},
   "outputs": [],
   "source": [
    "df_lemmatiz = pd.DataFrame(df_lemmatiz)"
   ]
  },
  {
   "cell_type": "code",
   "execution_count": 84,
   "id": "cf91f256-87fe-48ed-af39-85bfdc71a401",
   "metadata": {},
   "outputs": [],
   "source": [
    "df_lemmatiz.to_csv('df_lemmatiz', mode='w', index=False)"
   ]
  },
  {
   "cell_type": "code",
   "execution_count": 85,
   "id": "15d47311-fe20-4ace-9991-371ab38edc11",
   "metadata": {},
   "outputs": [
    {
     "data": {
      "text/html": [
       "<div>\n",
       "<style scoped>\n",
       "    .dataframe tbody tr th:only-of-type {\n",
       "        vertical-align: middle;\n",
       "    }\n",
       "\n",
       "    .dataframe tbody tr th {\n",
       "        vertical-align: top;\n",
       "    }\n",
       "\n",
       "    .dataframe thead th {\n",
       "        text-align: right;\n",
       "    }\n",
       "</style>\n",
       "<table border=\"1\" class=\"dataframe\">\n",
       "  <thead>\n",
       "    <tr style=\"text-align: right;\">\n",
       "      <th></th>\n",
       "      <th>text</th>\n",
       "      <th>labels</th>\n",
       "    </tr>\n",
       "  </thead>\n",
       "  <tbody>\n",
       "    <tr>\n",
       "      <th>0</th>\n",
       "      <td>суровый гималайский медведь .\\n</td>\n",
       "      <td>0</td>\n",
       "    </tr>\n",
       "    <tr>\n",
       "      <th>1</th>\n",
       "      <td>так, обнаруживать несколько проблема с дисплей...</td>\n",
       "      <td>0</td>\n",
       "    </tr>\n",
       "    <tr>\n",
       "      <th>2</th>\n",
       "      <td>у я оставаться только один вопрос - являться л...</td>\n",
       "      <td>3</td>\n",
       "    </tr>\n",
       "    <tr>\n",
       "      <th>3</th>\n",
       "      <td>забавно как человек в возраст удивляться входи...</td>\n",
       "      <td>1</td>\n",
       "    </tr>\n",
       "    <tr>\n",
       "      <th>4</th>\n",
       "      <td>издание The Register отмечать, что у владелец ...</td>\n",
       "      <td>0</td>\n",
       "    </tr>\n",
       "    <tr>\n",
       "      <th>...</th>\n",
       "      <td>...</td>\n",
       "      <td>...</td>\n",
       "    </tr>\n",
       "    <tr>\n",
       "      <th>7523</th>\n",
       "      <td>ухах какой я злой!\\n</td>\n",
       "      <td>5</td>\n",
       "    </tr>\n",
       "    <tr>\n",
       "      <th>7524</th>\n",
       "      <td>я очень рад вы видеть.\\n</td>\n",
       "      <td>1</td>\n",
       "    </tr>\n",
       "    <tr>\n",
       "      <th>7525</th>\n",
       "      <td>жизнь боль.\\n</td>\n",
       "      <td>2</td>\n",
       "    </tr>\n",
       "    <tr>\n",
       "      <th>7526</th>\n",
       "      <td>- не удивительно .\\n</td>\n",
       "      <td>0</td>\n",
       "    </tr>\n",
       "    <tr>\n",
       "      <th>7527</th>\n",
       "      <td>удивительно .\\n</td>\n",
       "      <td>3</td>\n",
       "    </tr>\n",
       "  </tbody>\n",
       "</table>\n",
       "<p>7528 rows × 2 columns</p>\n",
       "</div>"
      ],
      "text/plain": [
       "                                                   text  labels\n",
       "0                       суровый гималайский медведь .\\n       0\n",
       "1     так, обнаруживать несколько проблема с дисплей...       0\n",
       "2     у я оставаться только один вопрос - являться л...       3\n",
       "3     забавно как человек в возраст удивляться входи...       1\n",
       "4     издание The Register отмечать, что у владелец ...       0\n",
       "...                                                 ...     ...\n",
       "7523                               ухах какой я злой!\\n       5\n",
       "7524                           я очень рад вы видеть.\\n       1\n",
       "7525                                      жизнь боль.\\n       2\n",
       "7526                               - не удивительно .\\n       0\n",
       "7527                                    удивительно .\\n       3\n",
       "\n",
       "[7528 rows x 2 columns]"
      ]
     },
     "execution_count": 85,
     "metadata": {},
     "output_type": "execute_result"
    }
   ],
   "source": [
    "df_lemmatiz"
   ]
  },
  {
   "cell_type": "code",
   "execution_count": 86,
   "id": "1a33f704-0226-4f84-807e-223aae974378",
   "metadata": {},
   "outputs": [
    {
     "data": {
      "text/plain": [
       "(7528, 99)"
      ]
     },
     "execution_count": 86,
     "metadata": {},
     "output_type": "execute_result"
    }
   ],
   "source": [
    "x_train.shape"
   ]
  },
  {
   "cell_type": "code",
   "execution_count": 87,
   "id": "4a48b81a-ee7d-4360-a880-7cb51ded1cfc",
   "metadata": {},
   "outputs": [
    {
     "data": {
      "text/plain": [
       "(15690,)"
      ]
     },
     "execution_count": 87,
     "metadata": {},
     "output_type": "execute_result"
    }
   ],
   "source": [
    "np.array(data[0]).shape"
   ]
  },
  {
   "cell_type": "code",
   "execution_count": 95,
   "id": "3688d2d5-250e-4f74-aad7-f0e42727ffcb",
   "metadata": {},
   "outputs": [
    {
     "data": {
      "text/plain": [
       "array([0., 0., 1., ..., 0., 0., 0.])"
      ]
     },
     "execution_count": 95,
     "metadata": {},
     "output_type": "execute_result"
    }
   ],
   "source": [
    "data[0]"
   ]
  },
  {
   "cell_type": "code",
   "execution_count": 98,
   "id": "2f050fe4-1d4a-43c7-ba2a-a773568f65da",
   "metadata": {},
   "outputs": [
    {
     "data": {
      "text/plain": [
       "array([1., 0., 0., 0., 0., 0.])"
      ]
     },
     "execution_count": 98,
     "metadata": {},
     "output_type": "execute_result"
    }
   ],
   "source": [
    "y_train[0]"
   ]
  },
  {
   "cell_type": "code",
   "execution_count": 102,
   "id": "16af670a-e275-4e24-a2fa-a3e275596e10",
   "metadata": {},
   "outputs": [
    {
     "data": {
      "text/html": [
       "<pre style=\"white-space:pre;overflow-x:auto;line-height:normal;font-family:Menlo,'DejaVu Sans Mono',consolas,'Courier New',monospace\"><span style=\"font-weight: bold\">Model: \"sequential_2\"</span>\n",
       "</pre>\n"
      ],
      "text/plain": [
       "\u001b[1mModel: \"sequential_2\"\u001b[0m\n"
      ]
     },
     "metadata": {},
     "output_type": "display_data"
    },
    {
     "data": {
      "text/html": [
       "<pre style=\"white-space:pre;overflow-x:auto;line-height:normal;font-family:Menlo,'DejaVu Sans Mono',consolas,'Courier New',monospace\">┏━━━━━━━━━━━━━━━━━━━━━━━━━━━━━━━━━━━━━━┳━━━━━━━━━━━━━━━━━━━━━━━━━━━━━┳━━━━━━━━━━━━━━━━━┓\n",
       "┃<span style=\"font-weight: bold\"> Layer (type)                         </span>┃<span style=\"font-weight: bold\"> Output Shape                </span>┃<span style=\"font-weight: bold\">         Param # </span>┃\n",
       "┡━━━━━━━━━━━━━━━━━━━━━━━━━━━━━━━━━━━━━━╇━━━━━━━━━━━━━━━━━━━━━━━━━━━━━╇━━━━━━━━━━━━━━━━━┩\n",
       "│ dense_10 (<span style=\"color: #0087ff; text-decoration-color: #0087ff\">Dense</span>)                     │ (<span style=\"color: #00d7ff; text-decoration-color: #00d7ff\">None</span>, <span style=\"color: #00af00; text-decoration-color: #00af00\">100</span>)                 │       <span style=\"color: #00af00; text-decoration-color: #00af00\">1,569,100</span> │\n",
       "├──────────────────────────────────────┼─────────────────────────────┼─────────────────┤\n",
       "│ dense_11 (<span style=\"color: #0087ff; text-decoration-color: #0087ff\">Dense</span>)                     │ (<span style=\"color: #00d7ff; text-decoration-color: #00d7ff\">None</span>, <span style=\"color: #00af00; text-decoration-color: #00af00\">50</span>)                  │           <span style=\"color: #00af00; text-decoration-color: #00af00\">5,050</span> │\n",
       "├──────────────────────────────────────┼─────────────────────────────┼─────────────────┤\n",
       "│ dropout_4 (<span style=\"color: #0087ff; text-decoration-color: #0087ff\">Dropout</span>)                  │ (<span style=\"color: #00d7ff; text-decoration-color: #00d7ff\">None</span>, <span style=\"color: #00af00; text-decoration-color: #00af00\">50</span>)                  │               <span style=\"color: #00af00; text-decoration-color: #00af00\">0</span> │\n",
       "├──────────────────────────────────────┼─────────────────────────────┼─────────────────┤\n",
       "│ dense_12 (<span style=\"color: #0087ff; text-decoration-color: #0087ff\">Dense</span>)                     │ (<span style=\"color: #00d7ff; text-decoration-color: #00d7ff\">None</span>, <span style=\"color: #00af00; text-decoration-color: #00af00\">25</span>)                  │           <span style=\"color: #00af00; text-decoration-color: #00af00\">1,275</span> │\n",
       "├──────────────────────────────────────┼─────────────────────────────┼─────────────────┤\n",
       "│ dense_13 (<span style=\"color: #0087ff; text-decoration-color: #0087ff\">Dense</span>)                     │ (<span style=\"color: #00d7ff; text-decoration-color: #00d7ff\">None</span>, <span style=\"color: #00af00; text-decoration-color: #00af00\">10</span>)                  │             <span style=\"color: #00af00; text-decoration-color: #00af00\">260</span> │\n",
       "├──────────────────────────────────────┼─────────────────────────────┼─────────────────┤\n",
       "│ dropout_5 (<span style=\"color: #0087ff; text-decoration-color: #0087ff\">Dropout</span>)                  │ (<span style=\"color: #00d7ff; text-decoration-color: #00d7ff\">None</span>, <span style=\"color: #00af00; text-decoration-color: #00af00\">10</span>)                  │               <span style=\"color: #00af00; text-decoration-color: #00af00\">0</span> │\n",
       "├──────────────────────────────────────┼─────────────────────────────┼─────────────────┤\n",
       "│ dense_14 (<span style=\"color: #0087ff; text-decoration-color: #0087ff\">Dense</span>)                     │ (<span style=\"color: #00d7ff; text-decoration-color: #00d7ff\">None</span>, <span style=\"color: #00af00; text-decoration-color: #00af00\">6</span>)                   │              <span style=\"color: #00af00; text-decoration-color: #00af00\">66</span> │\n",
       "└──────────────────────────────────────┴─────────────────────────────┴─────────────────┘\n",
       "</pre>\n"
      ],
      "text/plain": [
       "┏━━━━━━━━━━━━━━━━━━━━━━━━━━━━━━━━━━━━━━┳━━━━━━━━━━━━━━━━━━━━━━━━━━━━━┳━━━━━━━━━━━━━━━━━┓\n",
       "┃\u001b[1m \u001b[0m\u001b[1mLayer (type)                        \u001b[0m\u001b[1m \u001b[0m┃\u001b[1m \u001b[0m\u001b[1mOutput Shape               \u001b[0m\u001b[1m \u001b[0m┃\u001b[1m \u001b[0m\u001b[1m        Param #\u001b[0m\u001b[1m \u001b[0m┃\n",
       "┡━━━━━━━━━━━━━━━━━━━━━━━━━━━━━━━━━━━━━━╇━━━━━━━━━━━━━━━━━━━━━━━━━━━━━╇━━━━━━━━━━━━━━━━━┩\n",
       "│ dense_10 (\u001b[38;5;33mDense\u001b[0m)                     │ (\u001b[38;5;45mNone\u001b[0m, \u001b[38;5;34m100\u001b[0m)                 │       \u001b[38;5;34m1,569,100\u001b[0m │\n",
       "├──────────────────────────────────────┼─────────────────────────────┼─────────────────┤\n",
       "│ dense_11 (\u001b[38;5;33mDense\u001b[0m)                     │ (\u001b[38;5;45mNone\u001b[0m, \u001b[38;5;34m50\u001b[0m)                  │           \u001b[38;5;34m5,050\u001b[0m │\n",
       "├──────────────────────────────────────┼─────────────────────────────┼─────────────────┤\n",
       "│ dropout_4 (\u001b[38;5;33mDropout\u001b[0m)                  │ (\u001b[38;5;45mNone\u001b[0m, \u001b[38;5;34m50\u001b[0m)                  │               \u001b[38;5;34m0\u001b[0m │\n",
       "├──────────────────────────────────────┼─────────────────────────────┼─────────────────┤\n",
       "│ dense_12 (\u001b[38;5;33mDense\u001b[0m)                     │ (\u001b[38;5;45mNone\u001b[0m, \u001b[38;5;34m25\u001b[0m)                  │           \u001b[38;5;34m1,275\u001b[0m │\n",
       "├──────────────────────────────────────┼─────────────────────────────┼─────────────────┤\n",
       "│ dense_13 (\u001b[38;5;33mDense\u001b[0m)                     │ (\u001b[38;5;45mNone\u001b[0m, \u001b[38;5;34m10\u001b[0m)                  │             \u001b[38;5;34m260\u001b[0m │\n",
       "├──────────────────────────────────────┼─────────────────────────────┼─────────────────┤\n",
       "│ dropout_5 (\u001b[38;5;33mDropout\u001b[0m)                  │ (\u001b[38;5;45mNone\u001b[0m, \u001b[38;5;34m10\u001b[0m)                  │               \u001b[38;5;34m0\u001b[0m │\n",
       "├──────────────────────────────────────┼─────────────────────────────┼─────────────────┤\n",
       "│ dense_14 (\u001b[38;5;33mDense\u001b[0m)                     │ (\u001b[38;5;45mNone\u001b[0m, \u001b[38;5;34m6\u001b[0m)                   │              \u001b[38;5;34m66\u001b[0m │\n",
       "└──────────────────────────────────────┴─────────────────────────────┴─────────────────┘\n"
      ]
     },
     "metadata": {},
     "output_type": "display_data"
    },
    {
     "data": {
      "text/html": [
       "<pre style=\"white-space:pre;overflow-x:auto;line-height:normal;font-family:Menlo,'DejaVu Sans Mono',consolas,'Courier New',monospace\"><span style=\"font-weight: bold\"> Total params: </span><span style=\"color: #00af00; text-decoration-color: #00af00\">1,575,751</span> (6.01 MB)\n",
       "</pre>\n"
      ],
      "text/plain": [
       "\u001b[1m Total params: \u001b[0m\u001b[38;5;34m1,575,751\u001b[0m (6.01 MB)\n"
      ]
     },
     "metadata": {},
     "output_type": "display_data"
    },
    {
     "data": {
      "text/html": [
       "<pre style=\"white-space:pre;overflow-x:auto;line-height:normal;font-family:Menlo,'DejaVu Sans Mono',consolas,'Courier New',monospace\"><span style=\"font-weight: bold\"> Trainable params: </span><span style=\"color: #00af00; text-decoration-color: #00af00\">1,575,751</span> (6.01 MB)\n",
       "</pre>\n"
      ],
      "text/plain": [
       "\u001b[1m Trainable params: \u001b[0m\u001b[38;5;34m1,575,751\u001b[0m (6.01 MB)\n"
      ]
     },
     "metadata": {},
     "output_type": "display_data"
    },
    {
     "data": {
      "text/html": [
       "<pre style=\"white-space:pre;overflow-x:auto;line-height:normal;font-family:Menlo,'DejaVu Sans Mono',consolas,'Courier New',monospace\"><span style=\"font-weight: bold\"> Non-trainable params: </span><span style=\"color: #00af00; text-decoration-color: #00af00\">0</span> (0.00 B)\n",
       "</pre>\n"
      ],
      "text/plain": [
       "\u001b[1m Non-trainable params: \u001b[0m\u001b[38;5;34m0\u001b[0m (0.00 B)\n"
      ]
     },
     "metadata": {},
     "output_type": "display_data"
    }
   ],
   "source": [
    "model = Sequential()\n",
    "model.add(Dense(units = 100 , activation = 'relu' , input_dim = data.shape[-1]))\n",
    "model.add(Dense(units = 50 , activation = 'relu'))\n",
    "model.add(Dropout(0.5))\n",
    "model.add(Dense(units = 25 , activation = 'relu'))\n",
    "model.add(Dense(units = 10 , activation = 'relu'))\n",
    "model.add(Dropout(0.3))\n",
    "model.add(Dense(units = 6 , activation = 'softmax'))\n",
    "model.compile(optimizer = 'adam' , loss = 'categorical_crossentropy' , metrics = ['accuracy'])\n",
    "model.summary()"
   ]
  },
  {
   "cell_type": "code",
   "execution_count": 103,
   "id": "42dcc109-727b-491f-b4da-7b567e39dc1b",
   "metadata": {},
   "outputs": [
    {
     "name": "stdout",
     "output_type": "stream",
     "text": [
      "Epoch 1/10\n",
      "\u001b[1m165/165\u001b[0m \u001b[32m━━━━━━━━━━━━━━━━━━━━\u001b[0m\u001b[37m\u001b[0m \u001b[1m11s\u001b[0m 39ms/step - accuracy: 0.4218 - loss: 1.5941 - val_accuracy: 0.6901 - val_loss: 1.2461\n",
      "Epoch 2/10\n",
      "\u001b[1m165/165\u001b[0m \u001b[32m━━━━━━━━━━━━━━━━━━━━\u001b[0m\u001b[37m\u001b[0m \u001b[1m6s\u001b[0m 37ms/step - accuracy: 0.6447 - loss: 1.0603 - val_accuracy: 0.7136 - val_loss: 0.9361\n",
      "Epoch 3/10\n",
      "\u001b[1m165/165\u001b[0m \u001b[32m━━━━━━━━━━━━━━━━━━━━\u001b[0m\u001b[37m\u001b[0m \u001b[1m6s\u001b[0m 34ms/step - accuracy: 0.7315 - loss: 0.7430 - val_accuracy: 0.7207 - val_loss: 0.9071\n",
      "Epoch 4/10\n",
      "\u001b[1m165/165\u001b[0m \u001b[32m━━━━━━━━━━━━━━━━━━━━\u001b[0m\u001b[37m\u001b[0m \u001b[1m6s\u001b[0m 37ms/step - accuracy: 0.7870 - loss: 0.5714 - val_accuracy: 0.7406 - val_loss: 0.9822\n",
      "Epoch 5/10\n",
      "\u001b[1m165/165\u001b[0m \u001b[32m━━━━━━━━━━━━━━━━━━━━\u001b[0m\u001b[37m\u001b[0m \u001b[1m5s\u001b[0m 32ms/step - accuracy: 0.8493 - loss: 0.4134 - val_accuracy: 0.7481 - val_loss: 1.1084\n",
      "Epoch 6/10\n",
      "\u001b[1m165/165\u001b[0m \u001b[32m━━━━━━━━━━━━━━━━━━━━\u001b[0m\u001b[37m\u001b[0m \u001b[1m12s\u001b[0m 40ms/step - accuracy: 0.8692 - loss: 0.3252 - val_accuracy: 0.7406 - val_loss: 1.3471\n",
      "Epoch 7/10\n",
      "\u001b[1m165/165\u001b[0m \u001b[32m━━━━━━━━━━━━━━━━━━━━\u001b[0m\u001b[37m\u001b[0m \u001b[1m5s\u001b[0m 33ms/step - accuracy: 0.8927 - loss: 0.2775 - val_accuracy: 0.7393 - val_loss: 1.6599\n",
      "Epoch 8/10\n",
      "\u001b[1m165/165\u001b[0m \u001b[32m━━━━━━━━━━━━━━━━━━━━\u001b[0m\u001b[37m\u001b[0m \u001b[1m6s\u001b[0m 33ms/step - accuracy: 0.8920 - loss: 0.2581 - val_accuracy: 0.7468 - val_loss: 1.5900\n",
      "Epoch 9/10\n",
      "\u001b[1m165/165\u001b[0m \u001b[32m━━━━━━━━━━━━━━━━━━━━\u001b[0m\u001b[37m\u001b[0m \u001b[1m6s\u001b[0m 35ms/step - accuracy: 0.9225 - loss: 0.1957 - val_accuracy: 0.7393 - val_loss: 1.7472\n",
      "Epoch 10/10\n",
      "\u001b[1m165/165\u001b[0m \u001b[32m━━━━━━━━━━━━━━━━━━━━\u001b[0m\u001b[37m\u001b[0m \u001b[1m5s\u001b[0m 29ms/step - accuracy: 0.9317 - loss: 0.1836 - val_accuracy: 0.7437 - val_loss: 1.8588\n"
     ]
    },
    {
     "data": {
      "text/plain": [
       "<keras.src.callbacks.history.History at 0x1b2e202afd0>"
      ]
     },
     "execution_count": 103,
     "metadata": {},
     "output_type": "execute_result"
    }
   ],
   "source": [
    "model.fit(data, y_train, epochs=10, batch_size=32, validation_split=0.3)"
   ]
  },
  {
   "cell_type": "code",
   "execution_count": 104,
   "id": "b717ea7f-d011-4ca9-a5f5-d96b3bfa8931",
   "metadata": {},
   "outputs": [],
   "source": [
    "model.save('model_classifire.keras')"
   ]
  },
  {
   "cell_type": "code",
   "execution_count": 110,
   "id": "0f9a9e78-90e7-41ee-8fa6-b0eb2f222753",
   "metadata": {},
   "outputs": [],
   "source": [
    "import pickle\n",
    "\n",
    "# saving\n",
    "with open('tokenizer.pickle', 'wb') as handle:\n",
    "    pickle.dump(token, handle, protocol=pickle.HIGHEST_PROTOCOL)"
   ]
  },
  {
   "cell_type": "code",
   "execution_count": 111,
   "id": "7e85946e-b534-4a70-95d7-614b4ef7cea9",
   "metadata": {},
   "outputs": [],
   "source": [
    "import tensorflow as tf"
   ]
  },
  {
   "cell_type": "code",
   "execution_count": 112,
   "id": "8b95c9af-c4d3-4777-b763-a87c1d512cbf",
   "metadata": {},
   "outputs": [
    {
     "data": {
      "text/html": [
       "<div>\n",
       "<style scoped>\n",
       "    .dataframe tbody tr th:only-of-type {\n",
       "        vertical-align: middle;\n",
       "    }\n",
       "\n",
       "    .dataframe tbody tr th {\n",
       "        vertical-align: top;\n",
       "    }\n",
       "\n",
       "    .dataframe thead th {\n",
       "        text-align: right;\n",
       "    }\n",
       "</style>\n",
       "<table border=\"1\" class=\"dataframe\">\n",
       "  <thead>\n",
       "    <tr style=\"text-align: right;\">\n",
       "      <th></th>\n",
       "      <th>text</th>\n",
       "      <th>labels</th>\n",
       "    </tr>\n",
       "  </thead>\n",
       "  <tbody>\n",
       "    <tr>\n",
       "      <th>0</th>\n",
       "      <td>[суровый, гималайский, медведь, .]</td>\n",
       "      <td>[1.0, 0.0, 0.0, 0.0, 0.0, 0.0]</td>\n",
       "    </tr>\n",
       "    <tr>\n",
       "      <th>1</th>\n",
       "      <td>[,, обнаруживать, несколько, проблема, дисплей...</td>\n",
       "      <td>[1.0, 0.0, 0.0, 0.0, 0.0, 0.0]</td>\n",
       "    </tr>\n",
       "    <tr>\n",
       "      <th>2</th>\n",
       "      <td>[оставаться, вопрос, -, являться, приступ, отч...</td>\n",
       "      <td>[0.0, 0.0, 0.0, 1.0, 0.0, 0.0]</td>\n",
       "    </tr>\n",
       "    <tr>\n",
       "      <th>3</th>\n",
       "      <td>[забавно, человек, возраст, удивляться, входит...</td>\n",
       "      <td>[0.0, 1.0, 0.0, 0.0, 0.0, 0.0]</td>\n",
       "    </tr>\n",
       "    <tr>\n",
       "      <th>4</th>\n",
       "      <td>[издание, The, Register, отмечать, ,, владелец...</td>\n",
       "      <td>[1.0, 0.0, 0.0, 0.0, 0.0, 0.0]</td>\n",
       "    </tr>\n",
       "    <tr>\n",
       "      <th>...</th>\n",
       "      <td>...</td>\n",
       "      <td>...</td>\n",
       "    </tr>\n",
       "    <tr>\n",
       "      <th>7523</th>\n",
       "      <td>[ухах, злой, !]</td>\n",
       "      <td>[0.0, 0.0, 0.0, 0.0, 0.0, 1.0]</td>\n",
       "    </tr>\n",
       "    <tr>\n",
       "      <th>7524</th>\n",
       "      <td>[очень, рад, видеть, .]</td>\n",
       "      <td>[0.0, 1.0, 0.0, 0.0, 0.0, 0.0]</td>\n",
       "    </tr>\n",
       "    <tr>\n",
       "      <th>7525</th>\n",
       "      <td>[жизнь, боль, .]</td>\n",
       "      <td>[0.0, 0.0, 1.0, 0.0, 0.0, 0.0]</td>\n",
       "    </tr>\n",
       "    <tr>\n",
       "      <th>7526</th>\n",
       "      <td>[-, удивительно, .]</td>\n",
       "      <td>[1.0, 0.0, 0.0, 0.0, 0.0, 0.0]</td>\n",
       "    </tr>\n",
       "    <tr>\n",
       "      <th>7527</th>\n",
       "      <td>[удивительно, .]</td>\n",
       "      <td>[0.0, 0.0, 0.0, 1.0, 0.0, 0.0]</td>\n",
       "    </tr>\n",
       "  </tbody>\n",
       "</table>\n",
       "<p>7528 rows × 2 columns</p>\n",
       "</div>"
      ],
      "text/plain": [
       "                                                   text  \\\n",
       "0                    [суровый, гималайский, медведь, .]   \n",
       "1     [,, обнаруживать, несколько, проблема, дисплей...   \n",
       "2     [оставаться, вопрос, -, являться, приступ, отч...   \n",
       "3     [забавно, человек, возраст, удивляться, входит...   \n",
       "4     [издание, The, Register, отмечать, ,, владелец...   \n",
       "...                                                 ...   \n",
       "7523                                    [ухах, злой, !]   \n",
       "7524                            [очень, рад, видеть, .]   \n",
       "7525                                   [жизнь, боль, .]   \n",
       "7526                                [-, удивительно, .]   \n",
       "7527                                   [удивительно, .]   \n",
       "\n",
       "                              labels  \n",
       "0     [1.0, 0.0, 0.0, 0.0, 0.0, 0.0]  \n",
       "1     [1.0, 0.0, 0.0, 0.0, 0.0, 0.0]  \n",
       "2     [0.0, 0.0, 0.0, 1.0, 0.0, 0.0]  \n",
       "3     [0.0, 1.0, 0.0, 0.0, 0.0, 0.0]  \n",
       "4     [1.0, 0.0, 0.0, 0.0, 0.0, 0.0]  \n",
       "...                              ...  \n",
       "7523  [0.0, 0.0, 0.0, 0.0, 0.0, 1.0]  \n",
       "7524  [0.0, 1.0, 0.0, 0.0, 0.0, 0.0]  \n",
       "7525  [0.0, 0.0, 1.0, 0.0, 0.0, 0.0]  \n",
       "7526  [1.0, 0.0, 0.0, 0.0, 0.0, 0.0]  \n",
       "7527  [0.0, 0.0, 0.0, 1.0, 0.0, 0.0]  \n",
       "\n",
       "[7528 rows x 2 columns]"
      ]
     },
     "execution_count": 112,
     "metadata": {},
     "output_type": "execute_result"
    }
   ],
   "source": [
    "df"
   ]
  },
  {
   "cell_type": "code",
   "execution_count": 113,
   "id": "8e3f1808-660e-4a50-a583-6a9c97155bfa",
   "metadata": {},
   "outputs": [],
   "source": [
    "test_df = pd.read_parquet(\"test/test0.parquet\")"
   ]
  },
  {
   "cell_type": "code",
   "execution_count": 114,
   "id": "93d43b66-7b52-412f-ad66-b76758a3f071",
   "metadata": {},
   "outputs": [
    {
     "data": {
      "text/plain": [
       "'Я в мае сдаю, боюсь сейчас) Ну как же, для себя, просто.'"
      ]
     },
     "execution_count": 114,
     "metadata": {},
     "output_type": "execute_result"
    }
   ],
   "source": [
    "test_df.text[4]"
   ]
  },
  {
   "cell_type": "code",
   "execution_count": 115,
   "id": "18fe7e59-b0a1-4d58-bfc5-92d9f074a89a",
   "metadata": {},
   "outputs": [
    {
     "data": {
      "text/plain": [
       "['отсутствует',\n",
       " 'радость',\n",
       " 'печаль/грусть',\n",
       " 'удивление',\n",
       " 'страх',\n",
       " 'гнев/злость']"
      ]
     },
     "execution_count": 115,
     "metadata": {},
     "output_type": "execute_result"
    }
   ],
   "source": [
    "df_key"
   ]
  },
  {
   "cell_type": "code",
   "execution_count": 116,
   "id": "2f472610-1158-4f88-9da0-597ac212a674",
   "metadata": {},
   "outputs": [],
   "source": [
    "model = tf.keras.models.load_model('model_classifire.keras')"
   ]
  },
  {
   "cell_type": "code",
   "execution_count": 118,
   "id": "00d77da8-e35e-4973-a308-a8ab182321de",
   "metadata": {},
   "outputs": [
    {
     "name": "stdin",
     "output_type": "stream",
     "text": [
      "Введите текст \n",
      " Жизнь боль...\n"
     ]
    }
   ],
   "source": [
    "user_input = input(\"Введите текст \\n\")"
   ]
  },
  {
   "cell_type": "code",
   "execution_count": 119,
   "id": "f4f5dc98-718c-47f5-a88d-e160d1322f3a",
   "metadata": {},
   "outputs": [
    {
     "data": {
      "text/plain": [
       "'Жизнь боль...'"
      ]
     },
     "execution_count": 119,
     "metadata": {},
     "output_type": "execute_result"
    }
   ],
   "source": [
    "user_input"
   ]
  },
  {
   "cell_type": "code",
   "execution_count": 120,
   "id": "3dbefb33-cf8d-4a18-8a1d-23aff7415373",
   "metadata": {},
   "outputs": [],
   "source": [
    "user_list = []\n",
    "lemmatiz(user_input, user_list)"
   ]
  },
  {
   "cell_type": "code",
   "execution_count": 121,
   "id": "d0695fba-056f-45db-bd71-f57ef2fc05b1",
   "metadata": {},
   "outputs": [
    {
     "data": {
      "text/plain": [
       "'жизнь боль...\\n'"
      ]
     },
     "execution_count": 121,
     "metadata": {},
     "output_type": "execute_result"
    }
   ],
   "source": [
    "user_list[0]"
   ]
  },
  {
   "cell_type": "code",
   "execution_count": 124,
   "id": "67075012-a89f-478f-96c2-9c4cd793ae2c",
   "metadata": {},
   "outputs": [],
   "source": [
    "# loading\n",
    "with open('tokenizer.pickle', 'rb') as handle:\n",
    "    token = pickle.load(handle)"
   ]
  },
  {
   "cell_type": "code",
   "execution_count": 125,
   "id": "5e9d6b58-68bd-4e43-a78c-256de756595b",
   "metadata": {},
   "outputs": [
    {
     "data": {
      "text/plain": [
       "['жизнь', 'боль', '...']"
      ]
     },
     "execution_count": 125,
     "metadata": {},
     "output_type": "execute_result"
    }
   ],
   "source": [
    "clear_user_input = []\n",
    "stop_words = set(stopwords.words('russian'))\n",
    "tokens = word_tokenize(user_list[0].replace(\"'\", \"\").replace(\"\\n\", \"\"), 'russian')\n",
    "for word in tokens:\n",
    "    if word not in stop_words:\n",
    "        clear_user_input.append(word)\n",
    "clear_user_input"
   ]
  },
  {
   "cell_type": "code",
   "execution_count": 126,
   "id": "4109a418-77a9-4770-b430-55ee33af0308",
   "metadata": {},
   "outputs": [],
   "source": [
    "token.fit_on_texts(clear_user_input)\n",
    "user_x = token.texts_to_sequences(clear_user_input)\n",
    "user_x = pad_sequences(user_x, maxlen=max_length, padding='post', truncating='post')\n"
   ]
  },
  {
   "cell_type": "code",
   "execution_count": 127,
   "id": "4ba337f6-d977-4f56-8a56-8c43d8ca0795",
   "metadata": {},
   "outputs": [
    {
     "data": {
      "text/plain": [
       "[['жизнь', 'боль', '...']]"
      ]
     },
     "execution_count": 127,
     "metadata": {},
     "output_type": "execute_result"
    }
   ],
   "source": [
    "[clear_user_input]"
   ]
  },
  {
   "cell_type": "code",
   "execution_count": 128,
   "id": "53b6e0d2-8a5b-41c1-b366-6d66c540fbb2",
   "metadata": {},
   "outputs": [],
   "source": [
    "user_x = token.texts_to_matrix([clear_user_input])"
   ]
  },
  {
   "cell_type": "code",
   "execution_count": 129,
   "id": "a383be94-d9ab-4d1f-8d69-6a3068fa3b1b",
   "metadata": {},
   "outputs": [
    {
     "data": {
      "text/plain": [
       "(1, 15690)"
      ]
     },
     "execution_count": 129,
     "metadata": {},
     "output_type": "execute_result"
    }
   ],
   "source": [
    "user_x.shape"
   ]
  },
  {
   "cell_type": "code",
   "execution_count": 130,
   "id": "d1e221ff-5bbb-47ad-b02f-1b977071863a",
   "metadata": {},
   "outputs": [
    {
     "data": {
      "text/plain": [
       "array([[0., 0., 0., ..., 0., 0., 0.]])"
      ]
     },
     "execution_count": 130,
     "metadata": {},
     "output_type": "execute_result"
    }
   ],
   "source": [
    "user_x"
   ]
  },
  {
   "cell_type": "code",
   "execution_count": 131,
   "id": "544df897-bbc8-4dc7-b3a5-f2ff762441df",
   "metadata": {},
   "outputs": [
    {
     "name": "stdout",
     "output_type": "stream",
     "text": [
      "\u001b[1m1/1\u001b[0m \u001b[32m━━━━━━━━━━━━━━━━━━━━\u001b[0m\u001b[37m\u001b[0m \u001b[1m0s\u001b[0m 164ms/step\n"
     ]
    }
   ],
   "source": [
    "y_pred = model.predict(user_x)"
   ]
  },
  {
   "cell_type": "code",
   "execution_count": 132,
   "id": "f9dfb1df-f8b9-4aef-b33b-38e8600f3178",
   "metadata": {},
   "outputs": [
    {
     "data": {
      "text/plain": [
       "0.0037484854"
      ]
     },
     "execution_count": 132,
     "metadata": {},
     "output_type": "execute_result"
    }
   ],
   "source": [
    "y_pred[0][0]"
   ]
  },
  {
   "cell_type": "code",
   "execution_count": 133,
   "id": "bd742e36-f421-49b2-8ced-21d96e095d19",
   "metadata": {},
   "outputs": [],
   "source": [
    "g = np.where(y_pred[0] == y_pred.max())[0][0]"
   ]
  },
  {
   "cell_type": "code",
   "execution_count": 134,
   "id": "fbf8e6f5-c04d-474f-a653-9a7826dd28b8",
   "metadata": {},
   "outputs": [
    {
     "data": {
      "text/plain": [
       "'печаль/грусть'"
      ]
     },
     "execution_count": 134,
     "metadata": {},
     "output_type": "execute_result"
    }
   ],
   "source": [
    "df_key[g]"
   ]
  },
  {
   "cell_type": "code",
   "execution_count": null,
   "id": "3e2e93fa-a878-475f-b511-4057df8a618a",
   "metadata": {},
   "outputs": [],
   "source": []
  }
 ],
 "metadata": {
  "kernelspec": {
   "display_name": "Python 3 (ipykernel)",
   "language": "python",
   "name": "python3"
  },
  "language_info": {
   "codemirror_mode": {
    "name": "ipython",
    "version": 3
   },
   "file_extension": ".py",
   "mimetype": "text/x-python",
   "name": "python",
   "nbconvert_exporter": "python",
   "pygments_lexer": "ipython3",
   "version": "3.12.7"
  }
 },
 "nbformat": 4,
 "nbformat_minor": 5
}
